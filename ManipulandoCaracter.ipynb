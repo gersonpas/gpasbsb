{
  "nbformat": 4,
  "nbformat_minor": 0,
  "metadata": {
    "colab": {
      "name": "ManipulandoCaracter.ipynb",
      "provenance": [],
      "authorship_tag": "ABX9TyMAMzjs9FGoYXMaJz9avhWj",
      "include_colab_link": true
    },
    "kernelspec": {
      "name": "python3",
      "display_name": "Python 3"
    }
  },
  "cells": [
    {
      "cell_type": "markdown",
      "metadata": {
        "id": "view-in-github",
        "colab_type": "text"
      },
      "source": [
        "<a href=\"https://colab.research.google.com/github/gersonpas/gpasbsb/blob/master/ManipulandoCaracter.ipynb\" target=\"_parent\"><img src=\"https://colab.research.google.com/assets/colab-badge.svg\" alt=\"Open In Colab\"/></a>"
      ]
    },
    {
      "cell_type": "code",
      "metadata": {
        "id": "bhbNQtZjlz2x"
      },
      "source": [
        "frase = 'Curso em vídeo Python'\r\n",
        "print(type(frase))\r\n",
        "print(frase[15:])\r\n",
        "print(len(frase))\r\n",
        "frase.count('o')\r\n",
        "'Curso' in(frase)\r\n",
        "print(frase.replace('Python','Android'))\r\n",
        "print(frase)\r\n",
        "print(frase.upper())\r\n",
        "divido = frase.split()\r\n",
        "print(divido[0])\r\n",
        "print(divido[1])\r\n",
        "print(type(divido))\r\n",
        "num = 1258\r\n",
        "type(num)"
      ],
      "execution_count": null,
      "outputs": []
    },
    {
      "cell_type": "code",
      "metadata": {
        "id": "O4Sja86xveuE"
      },
      "source": [
        ""
      ],
      "execution_count": 2,
      "outputs": []
    },
    {
      "cell_type": "markdown",
      "metadata": {
        "id": "wDKP0j5Vvhua"
      },
      "source": [
        ""
      ]
    },
    {
      "cell_type": "code",
      "metadata": {
        "id": "vbVdknrZviS4"
      },
      "source": [
        ""
      ],
      "execution_count": null,
      "outputs": []
    }
  ]
}