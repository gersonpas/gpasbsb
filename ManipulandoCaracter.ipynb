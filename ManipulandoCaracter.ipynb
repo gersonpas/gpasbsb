{
  "nbformat": 4,
  "nbformat_minor": 0,
  "metadata": {
    "colab": {
      "name": "ManipulandoCaracter.ipynb",
      "provenance": [],
      "authorship_tag": "ABX9TyNLca9A2jj5iJiIeyh14P0e",
      "include_colab_link": true
    },
    "kernelspec": {
      "name": "python3",
      "display_name": "Python 3"
    }
  },
  "cells": [
    {
      "cell_type": "markdown",
      "metadata": {
        "id": "view-in-github",
        "colab_type": "text"
      },
      "source": [
        "<a href=\"https://colab.research.google.com/github/gersonpas/gpasbsb/blob/master/ManipulandoCaracter.ipynb\" target=\"_parent\"><img src=\"https://colab.research.google.com/assets/colab-badge.svg\" alt=\"Open In Colab\"/></a>"
      ]
    },
    {
      "cell_type": "code",
      "metadata": {
        "id": "bhbNQtZjlz2x",
        "colab": {
          "base_uri": "https://localhost:8080/"
        },
        "outputId": "91b3608b-71ea-424a-ece9-fe757d12cb60"
      },
      "source": [
        "frase = 'Curso em vídeo Python'\r\n",
        "print(frase[15:])\r\n",
        "print(len(frase))\r\n",
        "frase.count('o')\r\n",
        "'Curso' in(frase)\r\n",
        "print(frase.replace('Python','Android'))\r\n",
        "print(frase)\r\n",
        "print(frase.upper())\r\n",
        "divido = frase.split()\r\n",
        "print(divido[0])\r\n",
        "print(divido[1])\r\n",
        "\r\n",
        "\r\n",
        "\r\n"
      ],
      "execution_count": 29,
      "outputs": [
        {
          "output_type": "stream",
          "text": [
            "Python\n",
            "21\n",
            "Curso em vídeo Android\n",
            "Curso em vídeo Python\n",
            "CURSO EM VÍDEO PYTHON\n",
            "Curso\n",
            "em\n"
          ],
          "name": "stdout"
        }
      ]
    }
  ]
}