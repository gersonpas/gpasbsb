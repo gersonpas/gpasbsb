{
  "nbformat": 4,
  "nbformat_minor": 0,
  "metadata": {
    "colab": {
      "name": "testeColab.ipynb",
      "provenance": [],
      "authorship_tag": "ABX9TyN76j1LO+nzHUjA2ZpnskXi",
      "include_colab_link": true
    },
    "kernelspec": {
      "name": "python3",
      "display_name": "Python 3"
    }
  },
  "cells": [
    {
      "cell_type": "markdown",
      "metadata": {
        "id": "view-in-github",
        "colab_type": "text"
      },
      "source": [
        "<a href=\"https://colab.research.google.com/github/gersonpas/gpasbsb/blob/master/testeColab.ipynb\" target=\"_parent\"><img src=\"https://colab.research.google.com/assets/colab-badge.svg\" alt=\"Open In Colab\"/></a>"
      ]
    },
    {
      "cell_type": "code",
      "metadata": {
        "colab": {
          "base_uri": "https://localhost:8080/"
        },
        "id": "iGpjWRTUqo0O",
        "outputId": "84fa0e1a-9048-4499-8a16-c54640afbcb8"
      },
      "source": [
        "def gpas(text):\r\n",
        "  a = (text + 1) * 1\r\n",
        "  print(gpas)\r\n",
        "  return a\r\n",
        "b = gpas(3)\r\n",
        "print(b)\r\n",
        "\r\n",
        "\r\n"
      ],
      "execution_count": 5,
      "outputs": [
        {
          "output_type": "stream",
          "text": [
            "<function gpas at 0x7fd8a4163a70>\n",
            "4\n"
          ],
          "name": "stdout"
        }
      ]
    }
  ]
}